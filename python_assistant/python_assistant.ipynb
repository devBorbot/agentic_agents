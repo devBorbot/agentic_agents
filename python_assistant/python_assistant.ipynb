{
 "cells": [
  {
   "cell_type": "code",
   "execution_count": 2,
   "id": "693f7d1f-9d55-4a3e-bd20-febdab5e7917",
   "metadata": {},
   "outputs": [
    {
     "name": "stdout",
     "output_type": "stream",
     "text": [
      "None\n"
     ]
    }
   ],
   "source": [
    "import os\n",
    "\n",
    "token = os.getenv(\"HF_API_TOKEN\")\n",
    "print(token)"
   ]
  },
  {
   "cell_type": "code",
   "execution_count": 3,
   "id": "9270bf02-160f-47fe-8598-daf9fe142dc6",
   "metadata": {},
   "outputs": [
    {
     "name": "stdout",
     "output_type": "stream",
     "text": [
      "environ({'TMPDIR': '/var/folders/bs/0g26pg4s3rn2kvcjw_x_lgp80000gn/T/', '__CFBundleIdentifier': 'com.apple.Terminal', 'XPC_FLAGS': '0x0', 'TERM': 'xterm-color', 'SSH_AUTH_SOCK': '/private/tmp/com.apple.launchd.0n2unYZqno/Listeners', 'XPC_SERVICE_NAME': '0', 'TERM_PROGRAM': 'Apple_Terminal', 'TERM_PROGRAM_VERSION': '455', 'TERM_SESSION_ID': 'EE7C0B92-0394-45BB-A821-5F9316960CA5', 'SHELL': '/bin/zsh', 'HOME': '/Users/ryanborman', 'LOGNAME': 'ryanborman', 'USER': 'ryanborman', 'PATH': '/usr/local/bin:/usr/local/sbin:/opt/anaconda3/envs/code_agent/bin:/opt/anaconda3/condabin:/opt/local/bin:/opt/local/sbin:/usr/local/opt/python/libexec/bin:/System/Cryptexes/App/usr/bin:/usr/bin:/bin:/usr/sbin:/sbin:/var/run/com.apple.security.cryptexd/codex.system/bootstrap/usr/local/bin:/var/run/com.apple.security.cryptexd/codex.system/bootstrap/usr/bin:/var/run/com.apple.security.cryptexd/codex.system/bootstrap/usr/appleinternal/bin:/Library/Apple/usr/bin', 'SHLVL': '1', 'PWD': '/Users/ryanborman/Documents/GitHub/agentic_agents/python_assistant', 'OLDPWD': '/Users/ryanborman/Documents/GitHub/agentic_agents', 'HOMEBREW_PREFIX': '/usr/local', 'HOMEBREW_CELLAR': '/usr/local/Cellar', 'HOMEBREW_REPOSITORY': '/usr/local/Homebrew', 'INFOPATH': '/usr/local/share/info:/usr/local/share/info:', 'CONDA_EXE': '/opt/anaconda3/bin/conda', 'CONDA_PYTHON_EXE': '/opt/anaconda3/bin/python', 'CONDA_SHLVL': '2', 'CONDA_PREFIX': '/opt/anaconda3/envs/code_agent', 'CONDA_DEFAULT_ENV': 'code_agent', 'CONDA_PROMPT_MODIFIER': '(code_agent) ', 'TRANSFORMERS_CACHE': '/huggingface/persistent/cache/models', 'HF_HOME': '/huggingface/persistent/cache', 'CONDA_PREFIX_1': '/opt/anaconda3', 'XML_CATALOG_FILES': 'file:///opt/anaconda3/envs/code_agent/etc/xml/catalog file:///etc/xml/catalog', 'LANG': 'en_US.UTF-8', '_': '/opt/anaconda3/envs/code_agent/bin/jupyter', '__CF_USER_TEXT_ENCODING': '0x1F5:0x0:0x0', 'JPY_SESSION_NAME': '/Users/ryanborman/Documents/GitHub/agentic_agents/python_assistant/python_assistant.ipynb', 'JPY_PARENT_PID': '41894', 'PYDEVD_USE_FRAME_EVAL': 'NO', 'CLICOLOR': '1', 'FORCE_COLOR': '1', 'CLICOLOR_FORCE': '1', 'PAGER': 'cat', 'GIT_PAGER': 'cat', 'MPLBACKEND': 'module://matplotlib_inline.backend_inline'})\n",
      "None\n"
     ]
    }
   ],
   "source": [
    "import os\n",
    "\n",
    "print(os.environ)  # Print all environment variables\n",
    "print(os.getenv(\"HF_API_TOKEN\"))  # Check specifically for HF_API_TOKEN"
   ]
  },
  {
   "cell_type": "code",
   "execution_count": null,
   "id": "b1469cf2-4495-4c78-a2cd-a0c0070a01e2",
   "metadata": {},
   "outputs": [],
   "source": []
  }
 ],
 "metadata": {
  "kernelspec": {
   "display_name": "Python 3 (ipykernel)",
   "language": "python",
   "name": "python3"
  },
  "language_info": {
   "codemirror_mode": {
    "name": "ipython",
    "version": 3
   },
   "file_extension": ".py",
   "mimetype": "text/x-python",
   "name": "python",
   "nbconvert_exporter": "python",
   "pygments_lexer": "ipython3",
   "version": "3.10.16"
  }
 },
 "nbformat": 4,
 "nbformat_minor": 5
}
