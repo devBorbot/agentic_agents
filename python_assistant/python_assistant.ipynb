{
 "cells": [
  {
   "cell_type": "code",
   "execution_count": null,
   "id": "c05ea334-96ef-4c7e-94b0-f8e505784625",
   "metadata": {},
   "outputs": [],
   "source": [
    "# # coding_tools.py\n",
    "# from smolagents import tool\n",
    "# from typing import Optional\n",
    "# import black\n",
    "# import pylint.lint\n",
    "\n",
    "# @tool\n",
    "# def code_suggester(code: str, problem: str) -> str:\n",
    "#     \"\"\"\n",
    "#     Provides real-time code suggestions given existing code and a problem description.\n",
    "\n",
    "#     Args:\n",
    "#         code (str): The existing code that needs improvement.\n",
    "#         problem (str): A description of the problem or issue with the code.\n",
    "\n",
    "#     Returns:\n",
    "#         str: A suggested improvement or solution for the given problem.\n",
    "#     \"\"\"\n",
    "#     return f\"Suggested improvement for {problem}:\\n# Consider using list comprehensions here\"\n",
    "\n",
    "\n",
    "# @tool\n",
    "# def code_debugger(error_message: str, code_snippet: str) -> str:\n",
    "#     \"\"\"\n",
    "#     Analyzes error messages and suggests fixes for a given code snippet.\n",
    "\n",
    "#     Args:\n",
    "#         error_message (str): The error message encountered while running the code.\n",
    "#         code_snippet (str): The code snippet that needs debugging.\n",
    "\n",
    "#     Returns:\n",
    "#         str: Debugging suggestions based on the error message and analysis of the code snippet.\n",
    "#     \"\"\"\n",
    "#     pylint_results = pylint.lint.Run([code_snippet], do_exit=False)\n",
    "#     return f\"Debugging suggestions:\\n{pylint_results.linter.stats['by_msg']}\"\n",
    "\n",
    "\n",
    "# @tool\n",
    "# def docstring_generator(code: str) -> str:\n",
    "#     \"\"\"\n",
    "#     Generates Google-style docstrings for Python functions based on the provided code.\n",
    "\n",
    "#     Args:\n",
    "#         code (str): The Python function or module for which a docstring needs to be generated.\n",
    "\n",
    "#     Returns:\n",
    "#         str: A Google-style docstring template for the given code.\n",
    "#     \"\"\"\n",
    "#     return \"Generated docstring:\\n\\\"\\\"\\\"Example function\\nArgs:\\n    param: Example parameter\\nReturns:\\n    Example return value\\\"\\\"\\\"\"\n",
    "\n",
    "\n",
    "# @tool\n",
    "# def code_formatter(code: str) -> str:\n",
    "#     \"\"\"\n",
    "#     Formats Python code using the Black formatter to ensure consistent style.\n",
    "\n",
    "#     Args:\n",
    "#         code (str): The Python code that needs formatting.\n",
    "\n",
    "#     Returns:\n",
    "#         str: The formatted Python code as per Black's style guidelines.\n",
    "#     \"\"\"\n",
    "#     return black.format_str(code, mode=black.FileMode())\n",
    "\n",
    "\n",
    "\n",
    "# # coding_agent.py\n",
    "# from smolagents import CodeAgent, HfApiModel\n",
    "# from coding_tools import code_suggester, code_debugger, docstring_generator, code_formatter\n",
    "\n",
    "# model = HfApiModel(model_id=\"Qwen/Qwen2.5-Coder-32B-Instruct\", token=\"hf_...\")\n",
    "\n",
    "# coding_agent = CodeAgent(\n",
    "#     tools=[code_suggester, code_debugger, docstring_generator, code_formatter],\n",
    "#     model=model,\n",
    "#     add_base_tools=True\n",
    "# )"
   ]
  },
  {
   "cell_type": "code",
   "execution_count": null,
   "id": "8956e1cf-93f5-4d15-ad6b-c3116a379794",
   "metadata": {},
   "outputs": [],
   "source": [
    "# app.py (Streamlit UI)\n",
    "import streamlit as st\n",
    "from coding_agent import coding_agent\n",
    "\n",
    "st.title(\"🤖 Python Coding Assistant\")\n",
    "st.caption(\"Powered by Hugging Face smolagents\")\n",
    "\n",
    "code_input = st.text_area(\"Enter your Python code:\", height=200)\n",
    "task = st.selectbox(\"Select task:\", [\"Suggest Improvements\", \"Debug\", \"Generate Docs\", \"Format Code\"])\n",
    "\n",
    "if st.button(\"Execute\"):\n",
    "    with st.spinner(\"Agent is working...\"):\n",
    "        response = coding_agent.run(\n",
    "            f\"{task} for this code: {code_input}\",\n",
    "            display=True\n",
    "        )\n",
    "        st.code(response, language=\"python\")\n"
   ]
  },
  {
   "cell_type": "code",
   "execution_count": null,
   "id": "0a8207ab-586f-4e4d-824e-41363fbaaa79",
   "metadata": {},
   "outputs": [],
   "source": [
    "# In Jupyter Notebook\n",
    "from coding_agent import coding_agent\n",
    "from jupyter_integration import init_jupyter  # Now points to local file\n",
    "\n",
    "init_jupyter()  # Properly registers magic commands\n",
    "\n"
   ]
  },
  {
   "cell_type": "code",
   "execution_count": null,
   "id": "639822fe-4762-49cb-9aca-41d28ad9a722",
   "metadata": {},
   "outputs": [],
   "source": [
    "# Ensure smolagents is installed in Jupyter's kernel environment\n",
    "!pip show smolagents || pip install smolagents --user"
   ]
  },
  {
   "cell_type": "code",
   "execution_count": null,
   "id": "43ce9abd-4cf7-4176-991f-55033148efe1",
   "metadata": {},
   "outputs": [],
   "source": [
    "%%agent coding_agent --task \"Fix division by zero error\"\n",
    "def calculate_average(nums):\n",
    "    return sum(nums)/len(nums)"
   ]
  },
  {
   "cell_type": "code",
   "execution_count": null,
   "id": "1d3d414c-975d-4aaa-8ab0-dd20be7b2984",
   "metadata": {},
   "outputs": [],
   "source": [
    "%%agent --task \"Add error handling\"\n",
    "def calculate_average(nums):\n",
    "    return sum(nums)/len(nums)"
   ]
  },
  {
   "cell_type": "code",
   "execution_count": null,
   "id": "69f527a9-59f4-4850-b6ea-95ba51970fc5",
   "metadata": {},
   "outputs": [],
   "source": []
  }
 ],
 "metadata": {
  "kernelspec": {
   "display_name": "Python 3 (ipykernel)",
   "language": "python",
   "name": "python3"
  },
  "language_info": {
   "codemirror_mode": {
    "name": "ipython",
    "version": 3
   },
   "file_extension": ".py",
   "mimetype": "text/x-python",
   "name": "python",
   "nbconvert_exporter": "python",
   "pygments_lexer": "ipython3",
   "version": "3.10.16"
  }
 },
 "nbformat": 4,
 "nbformat_minor": 5
}
